{
 "cells": [
  {
   "cell_type": "code",
   "execution_count": 1,
   "metadata": {},
   "outputs": [],
   "source": [
    "import numpy as np\n",
    "import pandas as pd\n",
    "import matplotlib.pyplot as plt\n",
    "from matplotlib import ticker\n",
    "%matplotlib inline"
   ]
  },
  {
   "cell_type": "markdown",
   "metadata": {},
   "source": [
    "## Helpers"
   ]
  },
  {
   "cell_type": "code",
   "execution_count": 2,
   "metadata": {},
   "outputs": [],
   "source": [
    "def plot_vectors(vectors=[(0, 0, 1, 2),(0, 0, 3, 1)], \n",
    "                 texts=[r'$\\vec{a}$', r'$\\vec{b}$', 'power vec', 'power vec2'], \n",
    "                 texts_locs=[(0.5, 0.7), (0.2, 0.8), (0.7, 0.5),  (0.5, 0.5)], text_size=18, \n",
    "                 colors=[\"#2EBCE7\",\"#00E64E\", \"purple\", 'orange'],   \n",
    "                 xlim=(-1, 3), ylim=(-1,3), x_label='x', y_label='y', \n",
    "                 scale=1, scale_units='xy'):\n",
    "    fig, ax =plt.subplots(figsize=(6,6))\n",
    "    ax.xaxis.set_major_locator(ticker.MultipleLocator(1))\n",
    "    ax.yaxis.set_major_locator(ticker.MultipleLocator(1))\n",
    "    \n",
    "    for i, vec in enumerate(vectors):\n",
    "        ax.quiver(*vec, color=colors[i], angles='xy', scale_units=scale_units, scale=scale)\n",
    "        plt.text(*texts_locs[i], texts[i], color=colors[i], size=text_size)\n",
    "\n",
    "    # draw axes\n",
    "    plt.axhline(0, c='#d6d6d6', zorder=0)\n",
    "    plt.axvline(0, c='#d6d6d6', zorder=0)\n",
    "\n",
    "    plt.xlim(*xlim)\n",
    "    plt.ylim(*ylim)\n",
    "    plt.xlabel(x_label)\n",
    "    plt.ylabel(y_label)\n",
    "    plt.show()\n",
    "    return ax"
   ]
  },
  {
   "cell_type": "markdown",
   "metadata": {},
   "source": [
    "## SVD methods, beer example"
   ]
  },
  {
   "cell_type": "markdown",
   "metadata": {},
   "source": [
    "#### Beer dataset"
   ]
  },
  {
   "cell_type": "markdown",
   "metadata": {},
   "source": [
    "Data is available from here: https://www.kaggle.com/dongeorge/beer-consumption-sao-paulo"
   ]
  },
  {
   "cell_type": "code",
   "execution_count": 28,
   "metadata": {},
   "outputs": [
    {
     "data": {
      "text/plain": [
       "(365, 7)"
      ]
     },
     "execution_count": 28,
     "metadata": {},
     "output_type": "execute_result"
    }
   ],
   "source": [
    "df=pd.read_csv('beer_dataset.csv')\n",
    "df.shape"
   ]
  },
  {
   "cell_type": "code",
   "execution_count": 29,
   "metadata": {},
   "outputs": [],
   "source": [
    "def plot_beer(x, y, x_label=\"Maximal temperature ($\\degree$C)\", y_label=\"Consuption (liters)\", \n",
    "              alpha=0.3, draw_axes=False):\n",
    "    plt.scatter(x, y, alpha=alpha)\n",
    "\n",
    "    plt.xlabel(x_label)\n",
    "    plt.ylabel(y_label)\n",
    "\n",
    "    # Assure that ticks are displayed with a specific step\n",
    "    ax = plt.gca()\n",
    "    ax.xaxis.set_major_locator(ticker.MultipleLocator(5))\n",
    "    ax.yaxis.set_major_locator(ticker.MultipleLocator(5))\n",
    "    \n",
    "    if draw_axes:\n",
    "        # draw axes\n",
    "        plt.axhline(0, c='#d6d6d6', zorder=0)\n",
    "        plt.axvline(0, c='#d6d6d6', zorder=0)\n",
    "\n",
    "    # assure x and y axis have the same scale\n",
    "    plt.axis('equal')\n",
    "    plt.show()"
   ]
  },
  {
   "cell_type": "code",
   "execution_count": 31,
   "metadata": {},
   "outputs": [
    {
     "data": {
      "image/png": "[encoded data removed]",
      "text/plain": [
       "<Figure size 432x288 with 1 Axes>"
      ]
     },
     "metadata": {
      "needs_background": "light"
     },
     "output_type": "display_data"
    }
   ],
   "source": [
    "plot_beer(df['Temperatura Maxima (C)'],\n",
    "          df['Consumo de cerveja (litros)'])"
   ]
  },
  {
   "cell_type": "markdown",
   "metadata": {},
   "source": [
    "#### Make datasets"
   ]
  },
  {
   "cell_type": "code",
   "execution_count": 32,
   "metadata": {},
   "outputs": [],
   "source": [
    "X = np.array([df['Temperatura Maxima (C)'],\n",
    "              df['Consumo de cerveja (litros)']]).T"
   ]
  },
  {
   "cell_type": "code",
   "execution_count": 33,
   "metadata": {},
   "outputs": [
    {
     "data": {
      "text/plain": [
       "array([[32.5  , 25.461],\n",
       "       [33.5  , 28.972],\n",
       "       [29.9  , 30.814],\n",
       "       [28.6  , 29.799],\n",
       "       [28.3  , 28.9  ],\n",
       "       [30.5  , 28.218],\n",
       "       [33.7  , 29.732],\n",
       "       [32.8  , 28.397],\n",
       "       [34.   , 24.886],\n",
       "       [34.2  , 37.937],\n",
       "       [34.8  , 36.254],\n",
       "       [35.4  , 25.743],\n",
       "       [34.8  , 26.99 ],\n",
       "       [34.   , 31.825],\n",
       "       [32.8  , 25.724],\n",
       "       [32.7  , 29.938],\n",
       "       [35.8  , 37.69 ],\n",
       "       [35.6  , 30.524],\n",
       "       [36.5  , 29.265],\n",
       "       [35.6  , 35.127],\n",
       "       [30.9  , 29.13 ],\n",
       "       [26.1  , 25.795],\n",
       "       [26.1  , 21.784],\n",
       "       [29.4  , 28.348],\n",
       "       [30.   , 31.088],\n",
       "       [28.7  , 21.52 ],\n",
       "       [28.7  , 29.972],\n",
       "       [29.9  , 22.603],\n",
       "       [29.2  , 22.696],\n",
       "       [26.9  , 26.845],\n",
       "       [24.3  , 27.03 ],\n",
       "       [28.   , 32.057],\n",
       "       [26.5  , 24.097],\n",
       "       [31.1  , 31.655],\n",
       "       [23.7  , 24.738],\n",
       "       [22.9  , 19.95 ],\n",
       "       [25.4  , 22.821],\n",
       "       [28.7  , 28.893],\n",
       "       [29.5  , 29.926],\n",
       "       [30.7  , 24.062],\n",
       "       [29.   , 21.137],\n",
       "       [30.4  , 26.805],\n",
       "       [32.7  , 26.389],\n",
       "       [32.1  , 24.219],\n",
       "       [31.6  , 30.231],\n",
       "       [27.6  , 24.968],\n",
       "       [27.3  , 25.343],\n",
       "       [28.   , 17.399],\n",
       "       [26.4  , 21.392],\n",
       "       [28.5  , 22.922],\n",
       "       [28.2  , 24.567],\n",
       "       [31.1  , 30.943],\n",
       "       [30.8  , 30.825],\n",
       "       [31.4  , 25.692],\n",
       "       [31.9  , 26.959],\n",
       "       [29.3  , 25.366],\n",
       "       [30.3  , 22.784],\n",
       "       [31.4  , 26.241],\n",
       "       [27.7  , 26.467],\n",
       "       [26.3  , 27.475],\n",
       "       [29.2  , 28.749],\n",
       "       [29.5  , 24.146],\n",
       "       [30.5  , 22.988],\n",
       "       [31.6  , 30.3  ],\n",
       "       [28.5  , 22.654],\n",
       "       [26.6  , 29.09 ],\n",
       "       [24.4  , 24.619],\n",
       "       [23.3  , 20.016],\n",
       "       [26.9  , 23.042],\n",
       "       [28.1  , 22.933],\n",
       "       [26.9  , 22.409],\n",
       "       [26.6  , 21.281],\n",
       "       [27.9  , 28.844],\n",
       "       [26.8  , 32.872],\n",
       "       [29.4  , 20.903],\n",
       "       [25.6  , 26.275],\n",
       "       [24.1  , 20.167],\n",
       "       [27.1  , 23.628],\n",
       "       [28.2  , 24.213],\n",
       "       [25.3  , 28.631],\n",
       "       [22.8  , 25.855],\n",
       "       [23.3  , 21.406],\n",
       "       [26.3  , 21.617],\n",
       "       [27.9  , 22.401],\n",
       "       [29.8  , 27.989],\n",
       "       [30.8  , 24.974],\n",
       "       [29.5  , 29.76 ],\n",
       "       [26.6  , 26.116],\n",
       "       [25.9  , 25.85 ],\n",
       "       [29.   , 24.925],\n",
       "       [27.5  , 21.979],\n",
       "       [26.2  , 22.116],\n",
       "       [27.2  , 24.867],\n",
       "       [29.4  , 33.45 ],\n",
       "       [26.4  , 32.713],\n",
       "       [27.7  , 22.356],\n",
       "       [20.   , 21.004],\n",
       "       [24.3  , 23.362],\n",
       "       [25.6  , 20.298],\n",
       "       [25.5  , 24.862],\n",
       "       [28.4  , 30.505],\n",
       "       [25.7  , 25.07 ],\n",
       "       [25.7  , 22.62 ],\n",
       "       [28.8  , 22.001],\n",
       "       [27.4  , 23.469],\n",
       "       [26.7  , 21.735],\n",
       "       [27.   , 21.593],\n",
       "       [29.3  , 33.822],\n",
       "       [27.2  , 28.028],\n",
       "       [29.2  , 24.304],\n",
       "       [29.   , 31.108],\n",
       "       [21.6  , 19.113],\n",
       "       [24.9  , 23.198],\n",
       "       [28.1  , 24.388],\n",
       "       [23.3  , 27.42 ],\n",
       "       [23.7  , 30.479],\n",
       "       [24.9  , 21.838],\n",
       "       [26.9  , 20.812],\n",
       "       [22.7  , 19.761],\n",
       "       [18.7  , 20.452],\n",
       "       [22.   , 17.939],\n",
       "       [26.4  , 25.272],\n",
       "       [26.3  , 28.049],\n",
       "       [22.3  , 25.317],\n",
       "       [20.8  , 21.826],\n",
       "       [20.4  , 20.68 ],\n",
       "       [21.7  , 19.143],\n",
       "       [19.2  , 18.146],\n",
       "       [26.1  , 25.489],\n",
       "       [21.   , 23.537],\n",
       "       [20.6  , 16.956],\n",
       "       [21.7  , 19.052],\n",
       "       [18.9  , 17.287],\n",
       "       [21.   , 20.3  ],\n",
       "       [21.5  , 20.538],\n",
       "       [22.3  , 23.702],\n",
       "       [22.4  , 28.411],\n",
       "       [21.3  , 21.073],\n",
       "       [22.9  , 24.215],\n",
       "       [23.3  , 19.525],\n",
       "       [25.   , 20.786],\n",
       "       [25.4  , 20.429],\n",
       "       [24.4  , 27.25 ],\n",
       "       [26.3  , 31.387],\n",
       "       [27.4  , 26.075],\n",
       "       [24.8  , 22.162],\n",
       "       [27.1  , 24.258],\n",
       "       [23.2  , 24.683],\n",
       "       [21.9  , 21.245],\n",
       "       [22.9  , 25.937],\n",
       "       [18.4  , 26.081],\n",
       "       [18.   , 16.228],\n",
       "       [17.5  , 20.106],\n",
       "       [21.7  , 21.055],\n",
       "       [24.1  , 22.772],\n",
       "       [25.3  , 25.142],\n",
       "       [26.1  , 31.129],\n",
       "       [26.2  , 30.498],\n",
       "       [26.4  , 26.15 ],\n",
       "       [26.   , 21.327],\n",
       "       [26.2  , 22.008],\n",
       "       [26.9  , 24.615],\n",
       "       [23.5  , 22.375],\n",
       "       [27.4  , 29.607],\n",
       "       [27.3  , 32.983],\n",
       "       [23.4  , 19.119],\n",
       "       [18.1  , 21.029],\n",
       "       [25.1  , 23.898],\n",
       "       [26.2  , 24.534],\n",
       "       [17.7  , 16.748],\n",
       "       [20.4  , 23.055],\n",
       "       [24.6  , 28.857],\n",
       "       [24.6  , 23.022],\n",
       "       [25.5  , 27.146],\n",
       "       [18.   , 17.241],\n",
       "       [17.4  , 19.463],\n",
       "       [20.9  , 21.86 ],\n",
       "       [20.8  , 24.227],\n",
       "       [21.8  , 27.594],\n",
       "       [24.4  , 24.863],\n",
       "       [25.1  , 20.161],\n",
       "       [20.5  , 20.824],\n",
       "       [19.9  , 19.727],\n",
       "       [18.4  , 14.94 ],\n",
       "       [21.   , 24.632],\n",
       "       [14.5  , 21.294],\n",
       "       [20.6  , 18.448],\n",
       "       [20.2  , 21.237],\n",
       "       [18.7  , 19.849],\n",
       "       [20.4  , 20.74 ],\n",
       "       [25.4  , 25.698],\n",
       "       [19.8  , 26.691],\n",
       "       [27.4  , 33.298],\n",
       "       [28.7  , 25.64 ],\n",
       "       [29.3  , 23.937],\n",
       "       [27.6  , 28.742],\n",
       "       [25.8  , 21.748],\n",
       "       [24.3  , 22.032],\n",
       "       [23.8  , 24.827],\n",
       "       [25.9  , 32.473],\n",
       "       [25.1  , 20.62 ],\n",
       "       [21.4  , 21.825],\n",
       "       [16.1  , 14.343],\n",
       "       [20.6  , 19.029],\n",
       "       [25.8  , 21.104],\n",
       "       [17.9  , 20.738],\n",
       "       [22.9  , 25.233],\n",
       "       [24.2  , 18.975],\n",
       "       [24.5  , 19.64 ],\n",
       "       [23.8  , 22.522],\n",
       "       [26.7  , 24.227],\n",
       "       [26.6  , 24.726],\n",
       "       [26.4  , 32.467],\n",
       "       [26.3  , 31.663],\n",
       "       [26.9  , 25.867],\n",
       "       [27.4  , 27.724],\n",
       "       [27.2  , 22.039],\n",
       "       [27.7  , 26.127],\n",
       "       [28.9  , 26.58 ],\n",
       "       [27.8  , 31.31 ],\n",
       "       [26.2  , 33.517],\n",
       "       [28.   , 23.181],\n",
       "       [27.2  , 24.183],\n",
       "       [26.6  , 24.594],\n",
       "       [28.1  , 22.61 ],\n",
       "       [27.6  , 25.479],\n",
       "       [27.8  , 29.621],\n",
       "       [27.2  , 26.272],\n",
       "       [28.   , 22.541],\n",
       "       [26.5  , 23.07 ],\n",
       "       [28.3  , 26.021],\n",
       "       [19.6  , 17.655],\n",
       "       [22.1  , 23.243],\n",
       "       [26.2  , 30.177],\n",
       "       [30.   , 27.518],\n",
       "       [20.5  , 23.21 ],\n",
       "       [20.5  , 21.092],\n",
       "       [24.   , 23.357],\n",
       "       [19.8  , 17.888],\n",
       "       [22.1  , 22.217],\n",
       "       [26.7  , 31.681],\n",
       "       [32.   , 31.833],\n",
       "       [32.2  , 28.441],\n",
       "       [30.7  , 22.389],\n",
       "       [20.2  , 20.681],\n",
       "       [25.   , 24.222],\n",
       "       [19.3  , 19.345],\n",
       "       [18.5  , 21.827],\n",
       "       [19.9  , 23.566],\n",
       "       [24.4  , 20.227],\n",
       "       [19.2  , 17.075],\n",
       "       [22.9  , 16.977],\n",
       "       [25.6  , 21.525],\n",
       "       [21.8  , 21.454],\n",
       "       [15.6  , 21.814],\n",
       "       [16.1  , 21.252],\n",
       "       [22.5  , 20.464],\n",
       "       [30.1  , 30.775],\n",
       "       [32.6  , 25.343],\n",
       "       [33.   , 33.93 ],\n",
       "       [34.5  , 26.311],\n",
       "       [35.5  , 31.836],\n",
       "       [33.3  , 34.695],\n",
       "       [32.8  , 29.829],\n",
       "       [33.3  , 26.362],\n",
       "       [34.   , 32.589],\n",
       "       [35.3  , 30.345],\n",
       "       [30.3  , 29.411],\n",
       "       [24.9  , 29.637],\n",
       "       [30.6  , 32.184],\n",
       "       [23.6  , 17.731],\n",
       "       [27.1  , 24.114],\n",
       "       [27.6  , 28.034],\n",
       "       [26.4  , 22.664],\n",
       "       [32.7  , 27.488],\n",
       "       [25.   , 24.876],\n",
       "       [21.3  , 24.862],\n",
       "       [22.4  , 24.679],\n",
       "       [24.7  , 22.304],\n",
       "       [32.6  , 30.329],\n",
       "       [34.   , 33.182],\n",
       "       [29.   , 23.849],\n",
       "       [28.   , 33.33 ],\n",
       "       [30.   , 34.496],\n",
       "       [29.6  , 26.249],\n",
       "       [27.6  , 26.523],\n",
       "       [28.5  , 26.793],\n",
       "       [35.8  , 35.861],\n",
       "       [35.7  , 27.387],\n",
       "       [29.2  , 32.666],\n",
       "       [19.2  , 22.199],\n",
       "       [27.2  , 24.   ],\n",
       "       [35.3  , 27.871],\n",
       "       [32.   , 31.139],\n",
       "       [22.8  , 23.065],\n",
       "       [27.3  , 26.594],\n",
       "       [21.2  , 27.657],\n",
       "       [19.2  , 26.594],\n",
       "       [28.5  , 28.084],\n",
       "       [28.4  , 27.582],\n",
       "       [23.9  , 24.862],\n",
       "       [24.8  , 22.634],\n",
       "       [31.2  , 31.649],\n",
       "       [29.3  , 35.781],\n",
       "       [22.4  , 24.429],\n",
       "       [27.2  , 20.648],\n",
       "       [25.6  , 22.741],\n",
       "       [27.4  , 21.479],\n",
       "       [24.8  , 23.134],\n",
       "       [22.8  , 20.575],\n",
       "       [20.   , 24.33 ],\n",
       "       [23.9  , 28.61 ],\n",
       "       [29.5  , 28.456],\n",
       "       [31.8  , 27.964],\n",
       "       [32.7  , 29.569],\n",
       "       [31.8  , 29.267],\n",
       "       [29.6  , 28.647],\n",
       "       [30.4  , 26.836],\n",
       "       [29.7  , 29.386],\n",
       "       [24.9  , 24.609],\n",
       "       [29.7  , 26.964],\n",
       "       [30.5  , 23.614],\n",
       "       [30.4  , 22.96 ],\n",
       "       [27.   , 20.332],\n",
       "       [24.4  , 30.392],\n",
       "       [28.8  , 31.933],\n",
       "       [23.6  , 21.662],\n",
       "       [22.6  , 21.689],\n",
       "       [24.8  , 25.119],\n",
       "       [27.4  , 25.285],\n",
       "       [28.4  , 28.979],\n",
       "       [29.8  , 34.382],\n",
       "       [26.   , 30.617],\n",
       "       [23.3  , 20.238],\n",
       "       [25.8  , 24.529],\n",
       "       [29.4  , 30.471],\n",
       "       [26.1  , 28.405],\n",
       "       [29.1  , 29.513],\n",
       "       [30.6  , 32.451],\n",
       "       [28.   , 32.78 ],\n",
       "       [23.9  , 23.375],\n",
       "       [28.   , 27.713],\n",
       "       [27.9  , 27.137],\n",
       "       [27.7  , 22.933],\n",
       "       [30.3  , 30.74 ],\n",
       "       [30.8  , 29.579],\n",
       "       [31.   , 29.188],\n",
       "       [32.5  , 28.131],\n",
       "       [32.8  , 28.617],\n",
       "       [24.8  , 21.062],\n",
       "       [28.7  , 24.337],\n",
       "       [33.5  , 27.042],\n",
       "       [31.3  , 32.536],\n",
       "       [29.   , 30.127],\n",
       "       [29.1  , 24.834],\n",
       "       [32.4  , 26.828],\n",
       "       [32.4  , 26.468],\n",
       "       [31.5  , 31.572],\n",
       "       [31.   , 26.308],\n",
       "       [29.8  , 21.955],\n",
       "       [28.2  , 32.307],\n",
       "       [26.7  , 26.095],\n",
       "       [24.1  , 22.309],\n",
       "       [22.4  , 20.467],\n",
       "       [29.   , 22.446]])"
      ]
     },
     "execution_count": 33,
     "metadata": {},
     "output_type": "execute_result"
    }
   ],
   "source": [
    "X"
   ]
  },
  {
   "cell_type": "markdown",
   "metadata": {},
   "source": [
    "#### Covariance matrix"
   ]
  },
  {
   "cell_type": "code",
   "execution_count": 34,
   "metadata": {},
   "outputs": [
    {
     "data": {
      "text/plain": [
       "array([[18.63964745, 12.20609082],\n",
       "       [12.20609082, 19.35245652]])"
      ]
     },
     "execution_count": 34,
     "metadata": {},
     "output_type": "execute_result"
    }
   ],
   "source": [
    "C = np.cov(X, rowvar=False)\n",
    "C"
   ]
  },
  {
   "cell_type": "code",
   "execution_count": 35,
   "metadata": {},
   "outputs": [],
   "source": [
    "#for easier plotting calculate mean centered data\n",
    "X_norm=X.copy()\n",
    "X_norm -= X.mean(axis=0)"
   ]
  },
  {
   "cell_type": "markdown",
   "metadata": {},
   "source": [
    "## Version 1  - power iteration"
   ]
  },
  {
   "cell_type": "code",
   "execution_count": 36,
   "metadata": {},
   "outputs": [],
   "source": [
    "#source http://mlwiki.org/index.php/Power_Iteration\n",
    "def eigenvalue(A, v):\n",
    "    val = A @ v / v\n",
    "    return val[0]\n",
    "\n",
    "def svd_power_iteration(A):\n",
    "    n, d = A.shape\n",
    "\n",
    "    v = np.ones(d) / np.sqrt(d)\n",
    "    ev = eigenvalue(A, v)\n",
    "\n",
    "    while True:\n",
    "        Av = A @ v\n",
    "        v_new = Av / np.linalg.norm(Av)\n",
    "        ev_new = eigenvalue(A, v_new)\n",
    "        if np.abs(ev - ev_new) < 0.01:\n",
    "            break\n",
    "\n",
    "        v = v_new\n",
    "        ev = ev_new\n",
    "\n",
    "    return ev_new, v_new"
   ]
  },
  {
   "cell_type": "code",
   "execution_count": 37,
   "metadata": {},
   "outputs": [
    {
     "data": {
      "text/plain": [
       "31.206525014487084"
      ]
     },
     "execution_count": 37,
     "metadata": {},
     "output_type": "execute_result"
    }
   ],
   "source": [
    "eigen_value, eigen_vec = svd_power_iteration(C)\n",
    "eigen_value"
   ]
  },
  {
   "cell_type": "code",
   "execution_count": 38,
   "metadata": {},
   "outputs": [
    {
     "data": {
      "text/plain": [
       "array([0.69673479, 0.71732882])"
      ]
     },
     "execution_count": 38,
     "metadata": {},
     "output_type": "execute_result"
    }
   ],
   "source": [
    "eigen_vec"
   ]
  },
  {
   "cell_type": "code",
   "execution_count": 39,
   "metadata": {},
   "outputs": [],
   "source": [
    "#compare to numpy implementation\n",
    "u, s, v=np.linalg.svd(C, 1)"
   ]
  },
  {
   "cell_type": "code",
   "execution_count": 13,
   "metadata": {},
   "outputs": [
    {
     "data": {
      "text/plain": [
       "array([[-0.69671139, -0.71735154],\n",
       "       [-0.71735154,  0.69671139]])"
      ]
     },
     "execution_count": 13,
     "metadata": {},
     "output_type": "execute_result"
    }
   ],
   "source": [
    "u # first eigenvector matches, we can ignore the signs as they are still same eigenvector"
   ]
  },
  {
   "cell_type": "code",
   "execution_count": 14,
   "metadata": {},
   "outputs": [
    {
     "data": {
      "text/plain": [
       "array([31.20734501,  6.78475896])"
      ]
     },
     "execution_count": 14,
     "metadata": {},
     "output_type": "execute_result"
    }
   ],
   "source": [
    "s #numpy has second eigenvalue also"
   ]
  },
  {
   "cell_type": "code",
   "execution_count": 15,
   "metadata": {},
   "outputs": [
    {
     "data": {
      "text/plain": [
       "array([[-0.69671139, -0.71735154],\n",
       "       [-0.71735154,  0.69671139]])"
      ]
     },
     "execution_count": 15,
     "metadata": {},
     "output_type": "execute_result"
    }
   ],
   "source": [
    "v"
   ]
  },
  {
   "cell_type": "code",
   "execution_count": 40,
   "metadata": {},
   "outputs": [
    {
     "data": {
      "image/png": "[encoded data removed]",
      "text/plain": [
       "<Figure size 432x288 with 1 Axes>"
      ]
     },
     "metadata": {
      "needs_background": "light"
     },
     "output_type": "display_data"
    }
   ],
   "source": [
    "#lets plot dominant eigenvector\n",
    "def plot_eigenvectors(eigen_vecs, eigen_values, colors=[\"#FF8177\", \"orange\"]):\n",
    "    for i, eigen_vec in enumerate(eigen_vecs):\n",
    "        plt.quiver(0, 0,\n",
    "           2 * np.sqrt(eigen_values[i]) * eigen_vec[0], 2 * np.sqrt(eigen_values[i]) * eigen_vec[1],\n",
    "           color=colors[i], angles=\"xy\", scale_units=\"xy\", scale=1,\n",
    "           zorder=2, width=0.011)\n",
    "\n",
    "plot_eigenvectors([eigen_vec], [eigen_value], colors=[\"#FF8177\", \"orange\"])\n",
    "plot_beer(X_norm[:, 0], X_norm[:, 1], draw_axes=True)"
   ]
  },
  {
   "cell_type": "markdown",
   "metadata": {},
   "source": [
    "## Version 2  - svd for n singular values"
   ]
  },
  {
   "cell_type": "code",
   "execution_count": 41,
   "metadata": {},
   "outputs": [],
   "source": [
    "#https://jeremykun.com/2016/05/16/singular-value-decomposition-part-2-theorem-proof-algorithm/\n",
    "#https://github.com/j2kun/svd/blob/main/svd.py\n",
    "def eigenvalue(A, v):\n",
    "    val = A @ v / v\n",
    "    return val[0]\n",
    "\n",
    "def svd_dominant_eigen(A, epsilon=0.01):\n",
    "    \"\"\"returns dominant eigenvalue and dominant eigenvector of matrix A\"\"\"\n",
    "    n, m = A.shape\n",
    "    k=min(n,m)\n",
    "    v = np.ones(k) / np.sqrt(k)\n",
    "    if n > m:\n",
    "        A = A.T @ A\n",
    "    elif n < m:\n",
    "        A = A @ A.T\n",
    "    \n",
    "    ev = eigenvalue(A, v)\n",
    "\n",
    "    while True:\n",
    "        Av = A@ v\n",
    "        v_new = Av / np.linalg.norm(Av)\n",
    "        ev_new = eigenvalue(A, v_new)\n",
    "        if np.abs(ev - ev_new) < epsilon:\n",
    "            break\n",
    "\n",
    "        v = v_new\n",
    "        ev = ev_new\n",
    "\n",
    "    return ev_new, v_new\n",
    "\n",
    "def svd(A, k=None, epsilon=1e-10):\n",
    "    \"\"\"returns k dominant eigenvalues and eigenvectors of matrix A\"\"\"\n",
    "    A = np.array(A, dtype=float)\n",
    "    n, m = A.shape\n",
    "        \n",
    "    svd_so_far = []\n",
    "    if k is None:\n",
    "        k = min(n, m)\n",
    "\n",
    "    for i in range(k):\n",
    "        matrix_for_1d = A.copy()\n",
    "\n",
    "        for singular_value, u, v in svd_so_far[:i]:\n",
    "            matrix_for_1d -= singular_value * np.outer(u, v)\n",
    "\n",
    "        if n > m:\n",
    "            _, v = svd_dominant_eigen(matrix_for_1d, epsilon=epsilon)  # next singular vector\n",
    "            u_unnormalized = A @ v\n",
    "            sigma = np.linalg.norm(u_unnormalized)  # next singular value\n",
    "            u = u_unnormalized / sigma\n",
    "        else:\n",
    "            _, u = svd_dominant_eigen(matrix_for_1d, epsilon=epsilon)  # next singular vector\n",
    "            v_unnormalized = A.T @ u\n",
    "            sigma = np.linalg.norm(v_unnormalized)  # next singular value\n",
    "            v = v_unnormalized / sigma\n",
    "\n",
    "        svd_so_far.append((sigma, u, v))\n",
    "\n",
    "    singular_values, us, vs = [np.array(x) for x in zip(*svd_so_far)]\n",
    "    return singular_values, us.T, vs"
   ]
  },
  {
   "cell_type": "code",
   "execution_count": 18,
   "metadata": {},
   "outputs": [],
   "source": [
    "eigen_values, eigen_vecs, _ = svd(C)"
   ]
  },
  {
   "cell_type": "code",
   "execution_count": 19,
   "metadata": {},
   "outputs": [
    {
     "data": {
      "text/plain": [
       "array([31.20734501,  6.78475896])"
      ]
     },
     "execution_count": 19,
     "metadata": {},
     "output_type": "execute_result"
    }
   ],
   "source": [
    "eigen_values"
   ]
  },
  {
   "cell_type": "code",
   "execution_count": 20,
   "metadata": {},
   "outputs": [
    {
     "data": {
      "text/plain": [
       "array([[ 0.69671139,  0.71735154],\n",
       "       [ 0.71735154, -0.69671139]])"
      ]
     },
     "execution_count": 20,
     "metadata": {},
     "output_type": "execute_result"
    }
   ],
   "source": [
    "eigen_vecs"
   ]
  },
  {
   "cell_type": "code",
   "execution_count": 21,
   "metadata": {},
   "outputs": [
    {
     "data": {
      "image/png": "[encoded data removed]",
      "text/plain": [
       "<Figure size 432x288 with 1 Axes>"
      ]
     },
     "metadata": {
      "needs_background": "light"
     },
     "output_type": "display_data"
    }
   ],
   "source": [
    "plot_eigenvectors(eigen_vecs, eigen_values, colors=[\"#FF8177\", \"orange\"])\n",
    "plot_beer(X_norm[:, 0], X_norm[:, 1], draw_axes=True)"
   ]
  },
  {
   "cell_type": "code",
   "execution_count": 22,
   "metadata": {},
   "outputs": [
    {
     "data": {
      "text/plain": [
       "array([[1, 2, 3],\n",
       "       [4, 5, 6]])"
      ]
     },
     "execution_count": 22,
     "metadata": {},
     "output_type": "execute_result"
    }
   ],
   "source": [
    "#more columns than rows\n",
    "mat=np.array([[1,2,3],\n",
    "            [4,5,6]])\n",
    "mat"
   ]
  },
  {
   "cell_type": "code",
   "execution_count": 23,
   "metadata": {},
   "outputs": [],
   "source": [
    "u, s, v=np.linalg.svd(mat, full_matrices=False)"
   ]
  },
  {
   "cell_type": "code",
   "execution_count": 24,
   "metadata": {},
   "outputs": [],
   "source": [
    "values, left_s, rigth_s=svd(mat)"
   ]
  },
  {
   "cell_type": "code",
   "execution_count": 25,
   "metadata": {},
   "outputs": [
    {
     "data": {
      "text/plain": [
       "array([[-0.3863177 , -0.92236578],\n",
       "       [-0.92236578,  0.3863177 ]])"
      ]
     },
     "execution_count": 25,
     "metadata": {},
     "output_type": "execute_result"
    }
   ],
   "source": [
    "u"
   ]
  },
  {
   "cell_type": "code",
   "execution_count": 26,
   "metadata": {},
   "outputs": [
    {
     "data": {
      "text/plain": [
       "array([[ 0.3863177 ,  0.92236578],\n",
       "       [ 0.92236578, -0.3863177 ]])"
      ]
     },
     "execution_count": 26,
     "metadata": {},
     "output_type": "execute_result"
    }
   ],
   "source": [
    "left_s"
   ]
  },
  {
   "cell_type": "code",
   "execution_count": 27,
   "metadata": {},
   "outputs": [
    {
     "data": {
      "text/plain": [
       "True"
      ]
     },
     "execution_count": 27,
     "metadata": {},
     "output_type": "execute_result"
    }
   ],
   "source": [
    "np.allclose(np.absolute(u), np.absolute(left_s))"
   ]
  },
  {
   "cell_type": "code",
   "execution_count": 28,
   "metadata": {},
   "outputs": [
    {
     "data": {
      "text/plain": [
       "True"
      ]
     },
     "execution_count": 28,
     "metadata": {},
     "output_type": "execute_result"
    }
   ],
   "source": [
    "np.allclose(s, values)"
   ]
  },
  {
   "cell_type": "code",
   "execution_count": 29,
   "metadata": {},
   "outputs": [
    {
     "data": {
      "text/plain": [
       "True"
      ]
     },
     "execution_count": 29,
     "metadata": {},
     "output_type": "execute_result"
    }
   ],
   "source": [
    "np.allclose(np.absolute(v), np.absolute(rigth_s))"
   ]
  },
  {
   "cell_type": "code",
   "execution_count": 30,
   "metadata": {},
   "outputs": [
    {
     "data": {
      "text/plain": [
       "array([[1, 2, 3],\n",
       "       [4, 5, 6],\n",
       "       [6, 1, 9],\n",
       "       [3, 2, 3]])"
      ]
     },
     "execution_count": 30,
     "metadata": {},
     "output_type": "execute_result"
    }
   ],
   "source": [
    "#more rows than columns\n",
    "mat2=np.array([[1,2,3],\n",
    "            [4,5,6],\n",
    "              [6,1,9],\n",
    "              [3,2,3]])\n",
    "mat2"
   ]
  },
  {
   "cell_type": "code",
   "execution_count": 31,
   "metadata": {},
   "outputs": [],
   "source": [
    "u_mat2, s_mat2, v_mat2 = np.linalg.svd(mat2, full_matrices=False)"
   ]
  },
  {
   "cell_type": "code",
   "execution_count": 32,
   "metadata": {},
   "outputs": [],
   "source": [
    "values_mat2, left_s_mat2, right_s_mat2=svd(mat2)"
   ]
  },
  {
   "cell_type": "code",
   "execution_count": 33,
   "metadata": {},
   "outputs": [
    {
     "data": {
      "text/plain": [
       "True"
      ]
     },
     "execution_count": 33,
     "metadata": {},
     "output_type": "execute_result"
    }
   ],
   "source": [
    "np.allclose(np.absolute(u_mat2), np.absolute(left_s_mat2))"
   ]
  },
  {
   "cell_type": "code",
   "execution_count": 34,
   "metadata": {},
   "outputs": [
    {
     "data": {
      "text/plain": [
       "True"
      ]
     },
     "execution_count": 34,
     "metadata": {},
     "output_type": "execute_result"
    }
   ],
   "source": [
    "np.allclose(s_mat2, values_mat2)"
   ]
  },
  {
   "cell_type": "code",
   "execution_count": 35,
   "metadata": {},
   "outputs": [
    {
     "data": {
      "text/plain": [
       "True"
      ]
     },
     "execution_count": 35,
     "metadata": {},
     "output_type": "execute_result"
    }
   ],
   "source": [
    "np.allclose(np.absolute(v_mat2), np.absolute(right_s_mat2))"
   ]
  },
  {
   "cell_type": "markdown",
   "metadata": {},
   "source": [
    "## Simultaneous power iteration /Orthogonal Iteration / block version of the Power Method"
   ]
  },
  {
   "cell_type": "code",
   "execution_count": 36,
   "metadata": {},
   "outputs": [],
   "source": [
    "def svd_simultaneous_power_iteration(A, k, epsilon=0.00001):\n",
    "    #source http://mlwiki.org/index.php/Power_Iteration\n",
    "    #adjusted to work with n<m and n>m matrices\n",
    "    n_orig, m_orig = A.shape\n",
    "    if k is None:\n",
    "        k=min(n_orig,m_orig)\n",
    "        \n",
    "    A_orig=A.copy()\n",
    "    if n_orig > m_orig:\n",
    "        A = A.T @ A\n",
    "        n, m = A.shape\n",
    "    elif n_orig < m_orig:\n",
    "        A = A @ A.T\n",
    "        n, m = A.shape\n",
    "    else:\n",
    "        n,m=n_orig, m_orig\n",
    "        \n",
    "    Q = np.random.rand(n, k)\n",
    "    Q, _ = np.linalg.qr(Q)\n",
    "    Q_prev = Q\n",
    " \n",
    "    for i in range(1000):\n",
    "        Z = A @ Q\n",
    "        Q, R = np.linalg.qr(Z)\n",
    "        # can use other stopping criteria as well \n",
    "        err = ((Q - Q_prev) ** 2).sum()\n",
    "        Q_prev = Q\n",
    "        if err < epsilon:\n",
    "            break\n",
    "            \n",
    "    singular_values=np.sqrt(np.diag(R))    \n",
    "    if n_orig < m_orig: \n",
    "        left_vecs=Q.T\n",
    "        #use property Values @ V = U.T@A => V=inv(Values)@U.T@A\n",
    "        right_vecs=np.linalg.inv(np.diag(singular_values))@left_vecs.T@A_orig\n",
    "    elif n_orig==m_orig:\n",
    "        left_vecs=Q.T\n",
    "        right_vecs=left_vecs\n",
    "        singular_values=np.square(singular_values)\n",
    "    else:\n",
    "        right_vecs=Q.T\n",
    "        #use property Values @ V = U.T@A => U=A@V@inv(Values)\n",
    "        left_vecs=A_orig@ right_vecs.T @np.linalg.inv(np.diag(singular_values))\n",
    "\n",
    "    return left_vecs, singular_values, right_vecs"
   ]
  },
  {
   "cell_type": "code",
   "execution_count": 37,
   "metadata": {},
   "outputs": [],
   "source": [
    "left_vecs, singular_values, right_vecs = svd_simultaneous_power_iteration(C, 2)"
   ]
  },
  {
   "cell_type": "code",
   "execution_count": 38,
   "metadata": {},
   "outputs": [
    {
     "data": {
      "text/plain": [
       "array([31.20730124,  6.78476848])"
      ]
     },
     "execution_count": 38,
     "metadata": {},
     "output_type": "execute_result"
    }
   ],
   "source": [
    "singular_values"
   ]
  },
  {
   "cell_type": "code",
   "execution_count": 39,
   "metadata": {},
   "outputs": [
    {
     "data": {
      "text/plain": [
       "array([[-0.69644374, -0.71761139],\n",
       "       [-0.71761139,  0.69644374]])"
      ]
     },
     "execution_count": 39,
     "metadata": {},
     "output_type": "execute_result"
    }
   ],
   "source": [
    "left_vecs"
   ]
  },
  {
   "cell_type": "code",
   "execution_count": 40,
   "metadata": {},
   "outputs": [
    {
     "data": {
      "text/plain": [
       "array([[-0.69644374, -0.71761139],\n",
       "       [-0.71761139,  0.69644374]])"
      ]
     },
     "execution_count": 40,
     "metadata": {},
     "output_type": "execute_result"
    }
   ],
   "source": [
    "right_vecs"
   ]
  },
  {
   "cell_type": "code",
   "execution_count": 41,
   "metadata": {},
   "outputs": [
    {
     "data": {
      "image/png": "[encoded data removed]",
      "text/plain": [
       "<Figure size 432x288 with 1 Axes>"
      ]
     },
     "metadata": {
      "needs_background": "light"
     },
     "output_type": "display_data"
    }
   ],
   "source": [
    "plot_eigenvectors(left_vecs, singular_values, colors=[\"#FF8177\", \"orange\"])\n",
    "plot_beer(X_norm[:, 0], X_norm[:, 1], draw_axes=True)"
   ]
  },
  {
   "cell_type": "code",
   "execution_count": 42,
   "metadata": {},
   "outputs": [
    {
     "data": {
      "text/plain": [
       "True"
      ]
     },
     "execution_count": 42,
     "metadata": {},
     "output_type": "execute_result"
    }
   ],
   "source": [
    "u, s,v = np.linalg.svd(C)\n",
    "np.allclose(np.absolute(left_vecs), np.absolute(u), atol=0.01)"
   ]
  },
  {
   "cell_type": "code",
   "execution_count": 43,
   "metadata": {},
   "outputs": [
    {
     "data": {
      "text/plain": [
       "True"
      ]
     },
     "execution_count": 43,
     "metadata": {},
     "output_type": "execute_result"
    }
   ],
   "source": [
    "np.allclose(np.absolute(right_vecs), np.absolute(v), atol=0.01)"
   ]
  },
  {
   "cell_type": "code",
   "execution_count": 44,
   "metadata": {},
   "outputs": [
    {
     "data": {
      "text/plain": [
       "True"
      ]
     },
     "execution_count": 44,
     "metadata": {},
     "output_type": "execute_result"
    }
   ],
   "source": [
    "np.allclose(singular_values, s, atol=0.01)"
   ]
  },
  {
   "cell_type": "code",
   "execution_count": 45,
   "metadata": {},
   "outputs": [],
   "source": [
    "# matrix which has more columns than rows\n",
    "left_mat, values_mat, right_mat=svd_simultaneous_power_iteration(mat, 2)"
   ]
  },
  {
   "cell_type": "code",
   "execution_count": 46,
   "metadata": {},
   "outputs": [],
   "source": [
    "u, s, v =np.linalg.svd(mat, full_matrices=False)"
   ]
  },
  {
   "cell_type": "code",
   "execution_count": 47,
   "metadata": {},
   "outputs": [
    {
     "data": {
      "text/plain": [
       "True"
      ]
     },
     "execution_count": 47,
     "metadata": {},
     "output_type": "execute_result"
    }
   ],
   "source": [
    "np.allclose(np.absolute(left_mat), np.absolute(u), atol=0.01)"
   ]
  },
  {
   "cell_type": "code",
   "execution_count": 48,
   "metadata": {},
   "outputs": [
    {
     "data": {
      "text/plain": [
       "True"
      ]
     },
     "execution_count": 48,
     "metadata": {},
     "output_type": "execute_result"
    }
   ],
   "source": [
    "np.allclose(np.absolute(right_mat), np.absolute(v), atol=0.01)"
   ]
  },
  {
   "cell_type": "code",
   "execution_count": 49,
   "metadata": {},
   "outputs": [
    {
     "data": {
      "text/plain": [
       "True"
      ]
     },
     "execution_count": 49,
     "metadata": {},
     "output_type": "execute_result"
    }
   ],
   "source": [
    "np.allclose(values_mat, s, atol=0.01)"
   ]
  },
  {
   "cell_type": "code",
   "execution_count": 50,
   "metadata": {},
   "outputs": [],
   "source": [
    "# matrix which has more rows than columns"
   ]
  },
  {
   "cell_type": "code",
   "execution_count": 51,
   "metadata": {},
   "outputs": [],
   "source": [
    "left_mat2, values_mat2,right_mat2=svd_simultaneous_power_iteration(mat2, 3)\n",
    "u, s, v =np.linalg.svd(mat2, full_matrices=False)"
   ]
  },
  {
   "cell_type": "code",
   "execution_count": 52,
   "metadata": {},
   "outputs": [
    {
     "data": {
      "text/plain": [
       "True"
      ]
     },
     "execution_count": 52,
     "metadata": {},
     "output_type": "execute_result"
    }
   ],
   "source": [
    "np.allclose(np.absolute(left_mat2), np.absolute(u), atol=0.01)"
   ]
  },
  {
   "cell_type": "code",
   "execution_count": 53,
   "metadata": {},
   "outputs": [
    {
     "data": {
      "text/plain": [
       "True"
      ]
     },
     "execution_count": 53,
     "metadata": {},
     "output_type": "execute_result"
    }
   ],
   "source": [
    "np.allclose(np.absolute(right_mat2), np.absolute(v), atol=0.01)"
   ]
  },
  {
   "cell_type": "code",
   "execution_count": 54,
   "metadata": {},
   "outputs": [
    {
     "data": {
      "text/plain": [
       "True"
      ]
     },
     "execution_count": 54,
     "metadata": {},
     "output_type": "execute_result"
    }
   ],
   "source": [
    "np.allclose(values_mat2, s, atol=0.01)"
   ]
  },
  {
   "cell_type": "code",
   "execution_count": null,
   "metadata": {},
   "outputs": [],
   "source": []
  }
 ],
 "metadata": {
  "kernelspec": {
   "display_name": "Python 3 (ipykernel)",
   "language": "python",
   "name": "python3"
  },
  "language_info": {
   "codemirror_mode": {
    "name": "ipython",
    "version": 3
   },
   "file_extension": ".py",
   "mimetype": "text/x-python",
   "name": "python",
   "nbconvert_exporter": "python",
   "pygments_lexer": "ipython3",
   "version": "3.10.12"
  }
 },
 "nbformat": 4,
 "nbformat_minor": 2
}
